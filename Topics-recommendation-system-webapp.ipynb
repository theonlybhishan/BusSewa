{
 "cells": [
  {
   "cell_type": "code",
   "execution_count": 1,
   "id": "9db0f0f3",
   "metadata": {},
   "outputs": [
    {
     "name": "stderr",
     "output_type": "stream",
     "text": [
      "Matplotlib is building the font cache; this may take a moment.\n"
     ]
    },
    {
     "name": "stdout",
     "output_type": "stream",
     "text": [
      "Dependencies Imported\n"
     ]
    }
   ],
   "source": [
    "import pandas as pd\n",
    "import os\n",
    "import numpy as np\n",
    "import matplotlib.pyplot as plt\n",
    "import seaborn as sns\n",
    "print('Dependencies Imported')\n"
   ]
  },
  {
   "cell_type": "code",
   "execution_count": 3,
   "id": "03bf3c60",
   "metadata": {},
   "outputs": [
    {
     "name": "stdout",
     "output_type": "stream",
     "text": [
      "   Id  Topic_name                                        description  \\\n",
      "0  16  Technology  the branch of knowledge dealing with engineeri...   \n",
      "1  17     Studies  The effort to acquire knowledge, as by reading...   \n",
      "2  18      Sports  An activity involving physical exertion  .Foot...   \n",
      "3  19       Notes  Medium for storing captured information.  Maki...   \n",
      "4  20      Movies  It is for entertainment purpose.Movie Genres ;...   \n",
      "\n",
      "                                                                                                              \n",
      "0                                                NaN                                                          \n",
      "1                                                NaN                                                          \n",
      "2                                                NaN                                                          \n",
      "3                                                NaN                                                          \n",
      "4                                                NaN                                                          \n"
     ]
    }
   ],
   "source": [
    "Topics = pd.read_excel('C:\\\\Users\\\\DELL\\\\Desktop\\\\test\\\\BusSewa\\\\hotels.xlsx')\n",
    "print(Topics.head())"
   ]
  },
  {
   "cell_type": "code",
   "execution_count": 4,
   "id": "a6bd93e6",
   "metadata": {},
   "outputs": [
    {
     "data": {
      "text/plain": [
       "(62, 4)"
      ]
     },
     "execution_count": 4,
     "metadata": {},
     "output_type": "execute_result"
    }
   ],
   "source": [
    "Topics.shape"
   ]
  },
  {
   "cell_type": "code",
   "execution_count": 5,
   "id": "d8db617a",
   "metadata": {},
   "outputs": [
    {
     "name": "stdout",
     "output_type": "stream",
     "text": [
      "<class 'pandas.core.frame.DataFrame'>\n",
      "RangeIndex: 62 entries, 0 to 61\n",
      "Data columns (total 4 columns):\n",
      " #   Column                                                                                                     Non-Null Count  Dtype  \n",
      "---  ------                                                                                                     --------------  -----  \n",
      " 0   Id                                                                                                         62 non-null     int64  \n",
      " 1   Topic_name                                                                                                 42 non-null     object \n",
      " 2   description                                                                                                42 non-null     object \n",
      " 3                                                                                                              0 non-null      float64\n",
      "dtypes: float64(1), int64(1), object(2)\n",
      "memory usage: 2.1+ KB\n"
     ]
    }
   ],
   "source": [
    "Topics.info()"
   ]
  },
  {
   "cell_type": "code",
   "execution_count": 6,
   "id": "9e47bd94",
   "metadata": {},
   "outputs": [
    {
     "data": {
      "text/plain": [
       "Id                                                                                                            0\n",
       "Topic_name                                                                                                   20\n",
       "description                                                                                                  20\n",
       "                                                                                                             62\n",
       "dtype: int64"
      ]
     },
     "execution_count": 6,
     "metadata": {},
     "output_type": "execute_result"
    }
   ],
   "source": [
    "Topics.isnull().sum() #no value is missing"
   ]
  },
  {
   "cell_type": "code",
   "execution_count": 7,
   "id": "5c535112",
   "metadata": {},
   "outputs": [
    {
     "data": {
      "text/plain": [
       "16    2\n",
       "24    2\n",
       "17    2\n",
       "29    2\n",
       "28    2\n",
       "27    2\n",
       "26    2\n",
       "25    2\n",
       "15    2\n",
       "23    2\n",
       "21    2\n",
       "18    2\n",
       "20    2\n",
       "22    2\n",
       "19    2\n",
       "41    1\n",
       "50    1\n",
       "51    1\n",
       "52    1\n",
       "8     1\n",
       "49    1\n",
       "48    1\n",
       "5     1\n",
       "53    1\n",
       "47    1\n",
       "46    1\n",
       "45    1\n",
       "44    1\n",
       "43    1\n",
       "42    1\n",
       "33    1\n",
       "40    1\n",
       "39    1\n",
       "38    1\n",
       "37    1\n",
       "36    1\n",
       "35    1\n",
       "34    1\n",
       "32    1\n",
       "31    1\n",
       "30    1\n",
       "14    1\n",
       "13    1\n",
       "12    1\n",
       "11    1\n",
       "10    1\n",
       "9     1\n",
       "Name: Id, dtype: int64"
      ]
     },
     "execution_count": 7,
     "metadata": {},
     "output_type": "execute_result"
    }
   ],
   "source": [
    "Topics['Id'].value_counts()"
   ]
  },
  {
   "cell_type": "code",
   "execution_count": 8,
   "id": "c8bbcec4",
   "metadata": {},
   "outputs": [
    {
     "data": {
      "text/plain": [
       "0                 Technology\n",
       "1                    Studies\n",
       "2                     Sports\n",
       "3                      Notes\n",
       "4                     Movies\n",
       "               ...          \n",
       "57    Continuous integration\n",
       "58                  COVID-19\n",
       "59                       sad\n",
       "60    Technical Difficulties\n",
       "61                       456\n",
       "Name: Topic_name, Length: 62, dtype: object"
      ]
     },
     "execution_count": 8,
     "metadata": {},
     "output_type": "execute_result"
    }
   ],
   "source": [
    "Topics['Topic_name']"
   ]
  },
  {
   "cell_type": "code",
   "execution_count": 9,
   "id": "091b155e",
   "metadata": {},
   "outputs": [
    {
     "data": {
      "text/plain": [
       "the branch of knowledge dealing with engineering or applied sciences.Technology is the result of accumulated knowledge and application of skills, methods, and processes used in industrial production.                                                                                                                                                                                                                                                                                                                                                                  1\n",
       "Google Chrome Extensions are add-ons that allow users to customize their Chrome web browser. Extensions are software programs, built on web technologies (such as HTML, CSS, and JavaScript) that enable users to customize the Chrome browsing experience.                                                                                                                                                                                                                                                                                                              1\n",
       "Azure is a cloud computing service created by Microsoft.                                                                                                                                                                                                                                                                                                                                                                                                                                                                                                                 1\n",
       "Babel is a compiler for writing next generation JavaScript, today.Babel is a compiler for writing next generation JavaScript, today. Babel is a tool that helps you write code in the latest version of JavaScript. When your supported environments don't support certain features natively,  Babel will help you compile those features down to a supported version.\\n                                                                                                                                                                                                 1\n",
       "Bash is a shell and command language interpreter for the GNU operating system.The improvements offered by Bash include:\\ncommand-line editing,\\nunlimited size command history,\\njob control,\\nshell functions and aliases,\\nindexed arrays of unlimited size,\\ninteger arithmetic in any base from two to sixty-four.                                                                                                                                                                                                                                                   1\n",
       "Bitcoin is a cryptocurrency developed by Satoshi Nakamoto.                                                                                                                                                                                                                                                                                                                                                                                                                                                                                                               1\n",
       "Bootstrap is an HTML, CSS, and JavaScript framework. Advantages of Bootstrap:\\nEasy to use: Anybody with just basic knowledge of HTML and CSS can start using Bootstrap\\nResponsive features: Bootstrap's responsive CSS adjusts to phones, tablets, and desktops\\nMobile-first approach: In Bootstrap 3, mobile-first styles are part of the core framework\\nBrowser compatibility: Bootstrap is compatible with all modern browsers (Chrome, Firefox, Internet Explorer, Edge, Safari, and Opera)\\n\\n                                                                  1\n",
       "A bot is an application that runs automated tasks over the Internet. A bot is a software program that operates on the Internet and performs repetitive tasks. While some bot traffic is from good bots, bad bots can have a huge negative impact on a website or application.                                                                                                                                                                                                                                                                                            1\n",
       "C is a general purpose programming language that first appeared in 1972.\\nAbout C programming: Procedural Language - Instructions in a C program are executed step by step.\\nPortable - You can move C programs from one platform to another, and run it without any or minimal changes.\\nSpeed - C programming is faster than most programming languages like Java, Python, etc.\\nGeneral Purpose - C programming can be used to develop operating systems, embedded systems, databases, and so on.                                                                     1\n",
       "Chrome is a web browser from the tech company Google.Google Chrome is a cross-platform web browser developed by Google. It was first released in 2008 for Microsoft Windows, built with free software components from Apple WebKit and Mozilla Firefox. It was later ported to Linux, macOS, iOS, and Android, where it is the default browser. The browser is also the main component of ChromeOS, where it serves as the platform for web applications.                                                                                                                1\n",
       "different gardening techniques used to torture helpless victims and make them dream of attending horrible opera performances                                                                                                                                                                                                                                                                                                                                                                                                                                             1\n",
       "The effort to acquire knowledge, as by reading, observation, or research.Studying is not just important for educational development, but also builds personal skills.Having good study skills can improve your confidence, competence, and self-esteem.                                                                                                                                                                                                                                                                                                                  1\n",
       "Clojure is a dynamic, general-purpose programming language. Clojure is a functional programming language. It provides the tools to avoid mutable state, provides functions as first-class objects, and emphasizes recursive iteration instead of side-effect based looping. Clojure is impure, in that it doesn’t force your program to be referentially transparent, and doesn’t strive for 'provable' programs. The philosophy behind Clojure is that most parts of most programs should be functional, and that programs that are more functional are more robust.    1\n",
       "Automate your code review with style, quality, security, and test coverage checks when you need them.                                                                                                                                                                                                                                                                                                                                                                                                                                                                    1\n",
       "Ensure your code meets quality standards and ship with confidence.                                                                                                                                                                                                                                                                                                                                                                                                                                                                                                       1\n",
       "Compiler, computer software that translates (compiles) source code written in a high-level language (e.g., C++) into a set of machine-language instructions that can be understood by a digital computer’s CPU. Compilers are very large programs, with error-checking and other abilities. Some compilers translate high-level language into an intermediate assembly language, which is then translated (assembled) into machine code by an assembly program or assembler. Other compilers generate machine language directly.                                         1\n",
       "Automatically build and test your code as you push it upstream, preventing bugs from being deployed to production.\\n Benefits: Say goodbye to long and tense integrations,Increase visibility enabling greater communication,\\nCatch issues early and nip them .\\nSpend less time debugging and more time adding features\\nBuild a solid foundation                                                                                                                                                                                                                      1\n",
       "The coronavirus disease 2019 (COVID-19) is an infectious disease caused by SARS-CoV-2.\\nMost common symptoms: fever,\\ncough,\\ntiredness,\\nloss of taste or smell.                                                                                                                                                                                                                                                                                                                                                                                                        1\n",
       "sadsadsadsad                                                                                                                                                                                                                                                                                                                                                                                                                                                                                                                                                             1\n",
       "Issues and debates related to immediate actions which must be taken on event of a serious butthurt                                                                                                                                                                                                                                                                                                                                                                                                                                                                       1\n",
       "Amazon Web Services (AWS) is the world’s most comprehensive and broadly adopted cloud offering, with more than 200 fully featured services available from data centers globally. Millions of customers—including the fastest-growing startups, largest enterprises, and leading government agencies—are using AWS to lower costs, increase security, become more agile, and innovate faster.                                                                                                                                                                             1\n",
       "An awesome list is a list of awesome things curated by the community.                                                                                                                                                                                                                                                                                                                                                                                                                                                                                                    1\n",
       "Atom is a open source text editor built with web technologies. Atom is a desktop application built with HTML, JavaScript, CSS, and Node.js integration. It runs on Electron, a framework for building cross platform apps using web technologies.                                                                                                                                                                                                                                                                                                                        1\n",
       "ASP.NET is a web framework for building modern web apps and services.                                                                                                                                                                                                                                                                                                                                                                                                                                                                                                    1\n",
       "An activity involving physical exertion  .Football,Basketball,Cricket,Tennis are some examples of sports. Sports help you to be fit and healthy.Sports are a crucial part of a student's growth and development. They help in the development of mental health and physical fitness of the body . Through participation in sports and games, a student gains various skills, experience and confidence that are helpful for developing their personality.                                                                                                                1\n",
       "Medium for storing captured information.  Making notes  help you capture and prioritize ideas,  projects and to-do lists,  so nothing falls through the cracks.  Notes do help you to memorize well. Note taking is an underrated skill.\\n\\nNote taking isn’t just important for college students, it’s a valuable life skill.\\n\\nIf you are able to take good notes,  you will be more effective in pursuing your goals whether you are a student,  writer , or entrepreneur.                                                                                           1\n",
       "It is for entertainment purpose.Movie Genres ; Action Films · Horror Films ; Adventure Films · Musicals (Dance) Films ; Comedy (& Black Comedy) Films · Science Fiction Films . The movies take us to places that we haven't visited before; they offer us a wider window and the ability to view a different world.                                                                                                                                                                                                                                                     1\n",
       "A job vacancy is defined as a paid post that is newly created, unoccupied, or about to become vacant: for which the employer is taking active steps and is prepared to take further steps to find a suitable candidate from outside the enterprise concerned.                                                                                                                                                                                                                                                                                                            1\n",
       "Food is any substance consumed to provide nutritional support for an organism. material consisting essentially of protein, carbohydrate, and fat used in the body of an organism to sustain growth, repair, and vital processes and to furnish energy.                                                                                                                                                                                                                                                                                                                   1\n",
       "Anything that happens,  especially something important or unusual. This  year world Cup gonna be will be the biggest ever sporting event.                                                                                                                                                                                                                                                                                                                                                                                                                                1\n",
       "Science,  python , C++ ,Java etc. comes under courses. A course description can be defined succinctly as 'all the relevant details of your course.you can choose your course according to your interests.                                                                                                                                                                                                                                                                                                                                                                1\n",
       "A book is a medium for recording information in the form of writing or images, typically composed of many pages bound together and protected by a cover.What are the different types of books?\\nAdventure stories.\\nClassics.\\nCrime.\\nFairy tales, fables, and folk tales.\\nFantasy.\\nHistorical fiction.\\nHorror.\\nHumour and satire.                                                                                                                                                                                                                                  1\n",
       "3D modeling is the process of virtually developing the surface and structure of a 3D object.                                                                                                                                                                                                                                                                                                                                                                                                                                                                             1\n",
       "Ajax is a technique for creating interactive web applications. Ajax uses XHTML for content, CSS for presentation, along with Document Object Model and JavaScript for dynamic content display.                                                                                                                                                                                                                                                                                                                                                                           1\n",
       "Algorithms are self-contained sequences that carry out a variety of tasks.The current term of choice for a problem-solving procedure, algorithm, is commonly used nowadays for the set of rules a machine (and especially a computer) follows to achieve a particular goal.                                                                                                                                                                                                                                                                                              1\n",
       "Amp is a non-blocking concurrency library for PHP.                                                                                                                                                                                                                                                                                                                                                                                                                                                                                                                       1\n",
       "Android is an operating system built by Google designed for mobile devices.                                                                                                                                                                                                                                                                                                                                                                                                                                                                                              1\n",
       "Angular is an open source web application platform. Angular is an open-source, JavaScript framework written in TypeScript. Google maintains it, and its primary purpose is to develop single-page applications. As a framework, Angular has clear advantages while also providing a standard structure for developers to work with. It enables users to create large applications in a maintainable manner.                                                                                                                                                              1\n",
       "Ansible is a simple and powerful automation engine. Ansible is a radically simple IT automation system. It handles configuration management, application deployment, cloud provisioning, ad-hoc task execution, network automation, and multi-node orchestration. Ansible makes complex changes like zero-downtime rolling updates with load balancers easy.                                                                                                                                                                                                             1\n",
       "An API (Application Programming Interface) is a collection of protocols and subroutines for building software. When you use an application on your mobile phone, the application connects to the Internet and sends data to a server. The server then retrieves that data, interprets it, performs the necessary actions and sends it back to your phone. The application then interprets that data and presents you with the information you wanted in a readable way. This is what an API is - all of this happens via API.                                            1\n",
       "Arduino is an open source hardware and software company and maker community. Arduino is an open-source platform used for building electronics projects. Arduino consists of both a physical programmable circuit board (often referred to as a microcontroller) and a piece of software, or IDE (Integrated Development Environment) that runs on your computer, used to write and upload computer code to the physical board.                                                                                                                                           1\n",
       "212                                                                                                                                                                                                                                                                                                                                                                                                                                                                                                                                                                      1\n",
       "Name: description, dtype: int64"
      ]
     },
     "execution_count": 9,
     "metadata": {},
     "output_type": "execute_result"
    }
   ],
   "source": [
    "Topics['description'].value_counts()"
   ]
  },
  {
   "cell_type": "code",
   "execution_count": 10,
   "id": "cf273de2",
   "metadata": {},
   "outputs": [],
   "source": [
    "Topics = Topics[['Id','Topic_name','description']]"
   ]
  },
  {
   "cell_type": "code",
   "execution_count": 11,
   "id": "258faa5a",
   "metadata": {},
   "outputs": [
    {
     "data": {
      "text/html": [
       "<div>\n",
       "<style scoped>\n",
       "    .dataframe tbody tr th:only-of-type {\n",
       "        vertical-align: middle;\n",
       "    }\n",
       "\n",
       "    .dataframe tbody tr th {\n",
       "        vertical-align: top;\n",
       "    }\n",
       "\n",
       "    .dataframe thead th {\n",
       "        text-align: right;\n",
       "    }\n",
       "</style>\n",
       "<table border=\"1\" class=\"dataframe\">\n",
       "  <thead>\n",
       "    <tr style=\"text-align: right;\">\n",
       "      <th></th>\n",
       "      <th>Id</th>\n",
       "      <th>Topic_name</th>\n",
       "      <th>description</th>\n",
       "    </tr>\n",
       "  </thead>\n",
       "  <tbody>\n",
       "    <tr>\n",
       "      <th>0</th>\n",
       "      <td>16</td>\n",
       "      <td>Technology</td>\n",
       "      <td>the branch of knowledge dealing with engineeri...</td>\n",
       "    </tr>\n",
       "    <tr>\n",
       "      <th>1</th>\n",
       "      <td>17</td>\n",
       "      <td>Studies</td>\n",
       "      <td>The effort to acquire knowledge, as by reading...</td>\n",
       "    </tr>\n",
       "    <tr>\n",
       "      <th>2</th>\n",
       "      <td>18</td>\n",
       "      <td>Sports</td>\n",
       "      <td>An activity involving physical exertion  .Foot...</td>\n",
       "    </tr>\n",
       "    <tr>\n",
       "      <th>3</th>\n",
       "      <td>19</td>\n",
       "      <td>Notes</td>\n",
       "      <td>Medium for storing captured information.  Maki...</td>\n",
       "    </tr>\n",
       "    <tr>\n",
       "      <th>4</th>\n",
       "      <td>20</td>\n",
       "      <td>Movies</td>\n",
       "      <td>It is for entertainment purpose.Movie Genres ;...</td>\n",
       "    </tr>\n",
       "    <tr>\n",
       "      <th>5</th>\n",
       "      <td>22</td>\n",
       "      <td>job vacancy</td>\n",
       "      <td>A job vacancy is defined as a paid post that i...</td>\n",
       "    </tr>\n",
       "    <tr>\n",
       "      <th>6</th>\n",
       "      <td>21</td>\n",
       "      <td>Food</td>\n",
       "      <td>Food is any substance consumed to provide nutr...</td>\n",
       "    </tr>\n",
       "    <tr>\n",
       "      <th>7</th>\n",
       "      <td>23</td>\n",
       "      <td>Events</td>\n",
       "      <td>Anything that happens,  especially something i...</td>\n",
       "    </tr>\n",
       "    <tr>\n",
       "      <th>8</th>\n",
       "      <td>24</td>\n",
       "      <td>Courses</td>\n",
       "      <td>Science,  python , C++ ,Java etc. comes under ...</td>\n",
       "    </tr>\n",
       "  </tbody>\n",
       "</table>\n",
       "</div>"
      ],
      "text/plain": [
       "   Id   Topic_name                                        description\n",
       "0  16   Technology  the branch of knowledge dealing with engineeri...\n",
       "1  17      Studies  The effort to acquire knowledge, as by reading...\n",
       "2  18       Sports  An activity involving physical exertion  .Foot...\n",
       "3  19        Notes  Medium for storing captured information.  Maki...\n",
       "4  20       Movies  It is for entertainment purpose.Movie Genres ;...\n",
       "5  22  job vacancy  A job vacancy is defined as a paid post that i...\n",
       "6  21         Food  Food is any substance consumed to provide nutr...\n",
       "7  23       Events  Anything that happens,  especially something i...\n",
       "8  24      Courses  Science,  python , C++ ,Java etc. comes under ..."
      ]
     },
     "execution_count": 11,
     "metadata": {},
     "output_type": "execute_result"
    }
   ],
   "source": [
    "Topics.head(9)"
   ]
  },
  {
   "cell_type": "code",
   "execution_count": 12,
   "id": "815cb998",
   "metadata": {},
   "outputs": [],
   "source": [
    "# Removing spaces between the words (Lambda funtions can be used as well)\n",
    "\n",
    "Topics['Topic_name'] = Topics['Topic_name'].str.replace(' ',',')\n",
    "Topics['Topic_name'] = Topics['Topic_name'].str.replace(',,',',')\n",
    "Topics['Topic_name'] = Topics['Topic_name'].str.replace(':','')\n",
    "\n",
    "\n",
    "\n",
    "\n",
    "\n",
    "\n"
   ]
  },
  {
   "cell_type": "code",
   "execution_count": 13,
   "id": "2c231771",
   "metadata": {},
   "outputs": [
    {
     "data": {
      "text/html": [
       "<div>\n",
       "<style scoped>\n",
       "    .dataframe tbody tr th:only-of-type {\n",
       "        vertical-align: middle;\n",
       "    }\n",
       "\n",
       "    .dataframe tbody tr th {\n",
       "        vertical-align: top;\n",
       "    }\n",
       "\n",
       "    .dataframe thead th {\n",
       "        text-align: right;\n",
       "    }\n",
       "</style>\n",
       "<table border=\"1\" class=\"dataframe\">\n",
       "  <thead>\n",
       "    <tr style=\"text-align: right;\">\n",
       "      <th></th>\n",
       "      <th>Id</th>\n",
       "      <th>Topic_name</th>\n",
       "      <th>description</th>\n",
       "    </tr>\n",
       "  </thead>\n",
       "  <tbody>\n",
       "    <tr>\n",
       "      <th>0</th>\n",
       "      <td>16</td>\n",
       "      <td>Technology</td>\n",
       "      <td>the branch of knowledge dealing with engineeri...</td>\n",
       "    </tr>\n",
       "    <tr>\n",
       "      <th>1</th>\n",
       "      <td>17</td>\n",
       "      <td>Studies</td>\n",
       "      <td>The effort to acquire knowledge, as by reading...</td>\n",
       "    </tr>\n",
       "    <tr>\n",
       "      <th>2</th>\n",
       "      <td>18</td>\n",
       "      <td>Sports</td>\n",
       "      <td>An activity involving physical exertion  .Foot...</td>\n",
       "    </tr>\n",
       "    <tr>\n",
       "      <th>3</th>\n",
       "      <td>19</td>\n",
       "      <td>Notes</td>\n",
       "      <td>Medium for storing captured information.  Maki...</td>\n",
       "    </tr>\n",
       "    <tr>\n",
       "      <th>4</th>\n",
       "      <td>20</td>\n",
       "      <td>Movies</td>\n",
       "      <td>It is for entertainment purpose.Movie Genres ;...</td>\n",
       "    </tr>\n",
       "  </tbody>\n",
       "</table>\n",
       "</div>"
      ],
      "text/plain": [
       "   Id  Topic_name                                        description\n",
       "0  16  Technology  the branch of knowledge dealing with engineeri...\n",
       "1  17     Studies  The effort to acquire knowledge, as by reading...\n",
       "2  18      Sports  An activity involving physical exertion  .Foot...\n",
       "3  19       Notes  Medium for storing captured information.  Maki...\n",
       "4  20      Movies  It is for entertainment purpose.Movie Genres ;..."
      ]
     },
     "execution_count": 13,
     "metadata": {},
     "output_type": "execute_result"
    }
   ],
   "source": [
    "Topics.head()"
   ]
  },
  {
   "cell_type": "code",
   "execution_count": 14,
   "id": "4905afb1",
   "metadata": {},
   "outputs": [],
   "source": [
    "Topics['tags'] = Topics['Topic_name'] + Topics['description'] "
   ]
  },
  {
   "cell_type": "code",
   "execution_count": 15,
   "id": "701b98f5",
   "metadata": {},
   "outputs": [
    {
     "data": {
      "text/html": [
       "<div>\n",
       "<style scoped>\n",
       "    .dataframe tbody tr th:only-of-type {\n",
       "        vertical-align: middle;\n",
       "    }\n",
       "\n",
       "    .dataframe tbody tr th {\n",
       "        vertical-align: top;\n",
       "    }\n",
       "\n",
       "    .dataframe thead th {\n",
       "        text-align: right;\n",
       "    }\n",
       "</style>\n",
       "<table border=\"1\" class=\"dataframe\">\n",
       "  <thead>\n",
       "    <tr style=\"text-align: right;\">\n",
       "      <th></th>\n",
       "      <th>Id</th>\n",
       "      <th>Topic_name</th>\n",
       "      <th>description</th>\n",
       "      <th>tags</th>\n",
       "    </tr>\n",
       "  </thead>\n",
       "  <tbody>\n",
       "    <tr>\n",
       "      <th>0</th>\n",
       "      <td>16</td>\n",
       "      <td>Technology</td>\n",
       "      <td>the branch of knowledge dealing with engineeri...</td>\n",
       "      <td>Technologythe branch of knowledge dealing with...</td>\n",
       "    </tr>\n",
       "    <tr>\n",
       "      <th>1</th>\n",
       "      <td>17</td>\n",
       "      <td>Studies</td>\n",
       "      <td>The effort to acquire knowledge, as by reading...</td>\n",
       "      <td>StudiesThe effort to acquire knowledge, as by ...</td>\n",
       "    </tr>\n",
       "    <tr>\n",
       "      <th>2</th>\n",
       "      <td>18</td>\n",
       "      <td>Sports</td>\n",
       "      <td>An activity involving physical exertion  .Foot...</td>\n",
       "      <td>SportsAn activity involving physical exertion ...</td>\n",
       "    </tr>\n",
       "    <tr>\n",
       "      <th>3</th>\n",
       "      <td>19</td>\n",
       "      <td>Notes</td>\n",
       "      <td>Medium for storing captured information.  Maki...</td>\n",
       "      <td>NotesMedium for storing captured information. ...</td>\n",
       "    </tr>\n",
       "    <tr>\n",
       "      <th>4</th>\n",
       "      <td>20</td>\n",
       "      <td>Movies</td>\n",
       "      <td>It is for entertainment purpose.Movie Genres ;...</td>\n",
       "      <td>MoviesIt is for entertainment purpose.Movie Ge...</td>\n",
       "    </tr>\n",
       "  </tbody>\n",
       "</table>\n",
       "</div>"
      ],
      "text/plain": [
       "   Id  Topic_name                                        description  \\\n",
       "0  16  Technology  the branch of knowledge dealing with engineeri...   \n",
       "1  17     Studies  The effort to acquire knowledge, as by reading...   \n",
       "2  18      Sports  An activity involving physical exertion  .Foot...   \n",
       "3  19       Notes  Medium for storing captured information.  Maki...   \n",
       "4  20      Movies  It is for entertainment purpose.Movie Genres ;...   \n",
       "\n",
       "                                                tags  \n",
       "0  Technologythe branch of knowledge dealing with...  \n",
       "1  StudiesThe effort to acquire knowledge, as by ...  \n",
       "2  SportsAn activity involving physical exertion ...  \n",
       "3  NotesMedium for storing captured information. ...  \n",
       "4  MoviesIt is for entertainment purpose.Movie Ge...  "
      ]
     },
     "execution_count": 15,
     "metadata": {},
     "output_type": "execute_result"
    }
   ],
   "source": [
    "Topics.head()"
   ]
  },
  {
   "cell_type": "code",
   "execution_count": 16,
   "id": "5901ffe8",
   "metadata": {},
   "outputs": [
    {
     "data": {
      "text/plain": [
       "'StudiesThe effort to acquire knowledge, as by reading, observation, or research.Studying is not just important for educational development, but also builds personal skills.Having good study skills can improve your confidence, competence, and self-esteem.'"
      ]
     },
     "execution_count": 16,
     "metadata": {},
     "output_type": "execute_result"
    }
   ],
   "source": [
    "Topics['tags'].iloc[1]"
   ]
  },
  {
   "cell_type": "code",
   "execution_count": 17,
   "id": "a7d7a673",
   "metadata": {},
   "outputs": [],
   "source": [
    "new_df = Topics[['Topic_name','tags']]"
   ]
  },
  {
   "cell_type": "code",
   "execution_count": 18,
   "id": "d3847eb1",
   "metadata": {},
   "outputs": [
    {
     "data": {
      "text/html": [
       "<div>\n",
       "<style scoped>\n",
       "    .dataframe tbody tr th:only-of-type {\n",
       "        vertical-align: middle;\n",
       "    }\n",
       "\n",
       "    .dataframe tbody tr th {\n",
       "        vertical-align: top;\n",
       "    }\n",
       "\n",
       "    .dataframe thead th {\n",
       "        text-align: right;\n",
       "    }\n",
       "</style>\n",
       "<table border=\"1\" class=\"dataframe\">\n",
       "  <thead>\n",
       "    <tr style=\"text-align: right;\">\n",
       "      <th></th>\n",
       "      <th>Topic_name</th>\n",
       "      <th>tags</th>\n",
       "    </tr>\n",
       "  </thead>\n",
       "  <tbody>\n",
       "    <tr>\n",
       "      <th>0</th>\n",
       "      <td>Technology</td>\n",
       "      <td>Technologythe branch of knowledge dealing with...</td>\n",
       "    </tr>\n",
       "    <tr>\n",
       "      <th>1</th>\n",
       "      <td>Studies</td>\n",
       "      <td>StudiesThe effort to acquire knowledge, as by ...</td>\n",
       "    </tr>\n",
       "    <tr>\n",
       "      <th>2</th>\n",
       "      <td>Sports</td>\n",
       "      <td>SportsAn activity involving physical exertion ...</td>\n",
       "    </tr>\n",
       "    <tr>\n",
       "      <th>3</th>\n",
       "      <td>Notes</td>\n",
       "      <td>NotesMedium for storing captured information. ...</td>\n",
       "    </tr>\n",
       "    <tr>\n",
       "      <th>4</th>\n",
       "      <td>Movies</td>\n",
       "      <td>MoviesIt is for entertainment purpose.Movie Ge...</td>\n",
       "    </tr>\n",
       "  </tbody>\n",
       "</table>\n",
       "</div>"
      ],
      "text/plain": [
       "   Topic_name                                               tags\n",
       "0  Technology  Technologythe branch of knowledge dealing with...\n",
       "1     Studies  StudiesThe effort to acquire knowledge, as by ...\n",
       "2      Sports  SportsAn activity involving physical exertion ...\n",
       "3       Notes  NotesMedium for storing captured information. ...\n",
       "4      Movies  MoviesIt is for entertainment purpose.Movie Ge..."
      ]
     },
     "execution_count": 18,
     "metadata": {},
     "output_type": "execute_result"
    }
   ],
   "source": [
    "new_df.head(5)"
   ]
  },
  {
   "cell_type": "code",
   "execution_count": 19,
   "id": "0d14eb2f",
   "metadata": {},
   "outputs": [
    {
     "name": "stderr",
     "output_type": "stream",
     "text": [
      "C:\\Users\\nepszy\\AppData\\Local\\Temp\\ipykernel_9264\\3631852015.py:1: SettingWithCopyWarning: \n",
      "A value is trying to be set on a copy of a slice from a DataFrame.\n",
      "Try using .loc[row_indexer,col_indexer] = value instead\n",
      "\n",
      "See the caveats in the documentation: https://pandas.pydata.org/pandas-docs/stable/user_guide/indexing.html#returning-a-view-versus-a-copy\n",
      "  new_df['tags'] = Topics['tags'].str.replace(',',' ')\n"
     ]
    }
   ],
   "source": [
    "new_df['tags'] = Topics['tags'].str.replace(',',' ')"
   ]
  },
  {
   "cell_type": "code",
   "execution_count": 20,
   "id": "4ac7b038",
   "metadata": {},
   "outputs": [
    {
     "name": "stderr",
     "output_type": "stream",
     "text": [
      "C:\\Users\\nepszy\\AppData\\Local\\Temp\\ipykernel_9264\\1345899779.py:1: SettingWithCopyWarning: \n",
      "A value is trying to be set on a copy of a slice from a DataFrame.\n",
      "Try using .loc[row_indexer,col_indexer] = value instead\n",
      "\n",
      "See the caveats in the documentation: https://pandas.pydata.org/pandas-docs/stable/user_guide/indexing.html#returning-a-view-versus-a-copy\n",
      "  new_df['Topic_name'] = Topics['Topic_name'].str.replace(',',' ')\n"
     ]
    }
   ],
   "source": [
    "new_df['Topic_name'] = Topics['Topic_name'].str.replace(',',' ')"
   ]
  },
  {
   "cell_type": "code",
   "execution_count": 21,
   "id": "17322380",
   "metadata": {},
   "outputs": [
    {
     "name": "stderr",
     "output_type": "stream",
     "text": [
      "C:\\Users\\nepszy\\AppData\\Local\\Temp\\ipykernel_9264\\1230612853.py:1: SettingWithCopyWarning: \n",
      "A value is trying to be set on a copy of a slice from a DataFrame\n",
      "\n",
      "See the caveats in the documentation: https://pandas.pydata.org/pandas-docs/stable/user_guide/indexing.html#returning-a-view-versus-a-copy\n",
      "  new_df.rename(columns = {'Topic_name':'Topic_Name'}, inplace = True)\n"
     ]
    }
   ],
   "source": [
    "new_df.rename(columns = {'Topic_name':'Topic_Name'}, inplace = True)"
   ]
  },
  {
   "cell_type": "code",
   "execution_count": 22,
   "id": "b6ba5a11",
   "metadata": {},
   "outputs": [
    {
     "name": "stderr",
     "output_type": "stream",
     "text": [
      "C:\\Users\\nepszy\\AppData\\Local\\Temp\\ipykernel_9264\\755349356.py:1: SettingWithCopyWarning: \n",
      "A value is trying to be set on a copy of a slice from a DataFrame.\n",
      "Try using .loc[row_indexer,col_indexer] = value instead\n",
      "\n",
      "See the caveats in the documentation: https://pandas.pydata.org/pandas-docs/stable/user_guide/indexing.html#returning-a-view-versus-a-copy\n",
      "  new_df['tags'] = new_df['tags'].apply(lambda x: x.lower() if type(x) is str else 'empty')\n"
     ]
    }
   ],
   "source": [
    "\n",
    "new_df['tags'] = new_df['tags'].apply(lambda x: x.lower() if type(x) is str else 'empty')"
   ]
  },
  {
   "cell_type": "code",
   "execution_count": 23,
   "id": "d895a893",
   "metadata": {},
   "outputs": [
    {
     "data": {
      "text/html": [
       "<div>\n",
       "<style scoped>\n",
       "    .dataframe tbody tr th:only-of-type {\n",
       "        vertical-align: middle;\n",
       "    }\n",
       "\n",
       "    .dataframe tbody tr th {\n",
       "        vertical-align: top;\n",
       "    }\n",
       "\n",
       "    .dataframe thead th {\n",
       "        text-align: right;\n",
       "    }\n",
       "</style>\n",
       "<table border=\"1\" class=\"dataframe\">\n",
       "  <thead>\n",
       "    <tr style=\"text-align: right;\">\n",
       "      <th></th>\n",
       "      <th>Topic_Name</th>\n",
       "      <th>tags</th>\n",
       "    </tr>\n",
       "  </thead>\n",
       "  <tbody>\n",
       "    <tr>\n",
       "      <th>0</th>\n",
       "      <td>Technology</td>\n",
       "      <td>technologythe branch of knowledge dealing with...</td>\n",
       "    </tr>\n",
       "    <tr>\n",
       "      <th>1</th>\n",
       "      <td>Studies</td>\n",
       "      <td>studiesthe effort to acquire knowledge  as by ...</td>\n",
       "    </tr>\n",
       "    <tr>\n",
       "      <th>2</th>\n",
       "      <td>Sports</td>\n",
       "      <td>sportsan activity involving physical exertion ...</td>\n",
       "    </tr>\n",
       "    <tr>\n",
       "      <th>3</th>\n",
       "      <td>Notes</td>\n",
       "      <td>notesmedium for storing captured information. ...</td>\n",
       "    </tr>\n",
       "    <tr>\n",
       "      <th>4</th>\n",
       "      <td>Movies</td>\n",
       "      <td>moviesit is for entertainment purpose.movie ge...</td>\n",
       "    </tr>\n",
       "  </tbody>\n",
       "</table>\n",
       "</div>"
      ],
      "text/plain": [
       "   Topic_Name                                               tags\n",
       "0  Technology  technologythe branch of knowledge dealing with...\n",
       "1     Studies  studiesthe effort to acquire knowledge  as by ...\n",
       "2      Sports  sportsan activity involving physical exertion ...\n",
       "3       Notes  notesmedium for storing captured information. ...\n",
       "4      Movies  moviesit is for entertainment purpose.movie ge..."
      ]
     },
     "execution_count": 23,
     "metadata": {},
     "output_type": "execute_result"
    }
   ],
   "source": [
    "new_df.head()"
   ]
  },
  {
   "cell_type": "code",
   "execution_count": 24,
   "id": "2d34a063",
   "metadata": {},
   "outputs": [
    {
     "data": {
      "text/plain": [
       "(62, 2)"
      ]
     },
     "execution_count": 24,
     "metadata": {},
     "output_type": "execute_result"
    }
   ],
   "source": [
    "new_df.shape"
   ]
  },
  {
   "cell_type": "code",
   "execution_count": 25,
   "id": "7715abb8",
   "metadata": {},
   "outputs": [],
   "source": [
    "from sklearn.feature_extraction.text import CountVectorizer"
   ]
  },
  {
   "cell_type": "code",
   "execution_count": 26,
   "id": "706a1ae8",
   "metadata": {},
   "outputs": [],
   "source": [
    "cv = CountVectorizer(max_features=5000,stop_words='english')\n"
   ]
  },
  {
   "cell_type": "code",
   "execution_count": 27,
   "id": "b4d07584",
   "metadata": {},
   "outputs": [],
   "source": [
    "\n",
    "\n",
    "vector = cv.fit_transform(new_df['tags']).toarray()"
   ]
  },
  {
   "cell_type": "code",
   "execution_count": 29,
   "id": "56fb03d8",
   "metadata": {},
   "outputs": [],
   "source": [
    "import nltk #for stemming process"
   ]
  },
  {
   "cell_type": "code",
   "execution_count": 30,
   "id": "b277579c",
   "metadata": {},
   "outputs": [],
   "source": [
    "from nltk.stem.porter import PorterStemmer\n",
    "ps = PorterStemmer()"
   ]
  },
  {
   "cell_type": "code",
   "execution_count": 31,
   "id": "0ba030e1",
   "metadata": {},
   "outputs": [],
   "source": [
    "#defining the stemming function\n",
    "def stem(text):\n",
    "    y=[]\n",
    "    \n",
    "    for i in text.split():\n",
    "        y.append(ps.stem(i))\n",
    "    \n",
    "    return \" \".join(y)"
   ]
  },
  {
   "cell_type": "code",
   "execution_count": 32,
   "id": "51a63ee2",
   "metadata": {},
   "outputs": [
    {
     "name": "stderr",
     "output_type": "stream",
     "text": [
      "C:\\Users\\nepszy\\AppData\\Local\\Temp\\ipykernel_9264\\3741851974.py:1: SettingWithCopyWarning: \n",
      "A value is trying to be set on a copy of a slice from a DataFrame.\n",
      "Try using .loc[row_indexer,col_indexer] = value instead\n",
      "\n",
      "See the caveats in the documentation: https://pandas.pydata.org/pandas-docs/stable/user_guide/indexing.html#returning-a-view-versus-a-copy\n",
      "  new_df['tags'] = new_df['tags'].apply(stem) #applying stemming on the tags column\n"
     ]
    }
   ],
   "source": [
    "new_df['tags'] = new_df['tags'].apply(stem) #applying stemming on the tags column"
   ]
  },
  {
   "cell_type": "code",
   "execution_count": 33,
   "id": "2f58e1a9",
   "metadata": {},
   "outputs": [],
   "source": [
    "from sklearn.metrics.pairwise import cosine_similarity"
   ]
  },
  {
   "cell_type": "code",
   "execution_count": 34,
   "id": "d04f5251",
   "metadata": {},
   "outputs": [],
   "source": [
    "similarity = cosine_similarity(vector)"
   ]
  },
  {
   "cell_type": "code",
   "execution_count": 35,
   "id": "901bab39",
   "metadata": {},
   "outputs": [
    {
     "data": {
      "text/plain": [
       "array([[1.        , 0.1754116 , 0.02911113, ..., 0.        , 0.        ,\n",
       "        0.        ],\n",
       "       [0.1754116 , 1.        , 0.12766073, ..., 0.        , 0.        ,\n",
       "        0.        ],\n",
       "       [0.02911113, 0.12766073, 1.        , ..., 0.        , 0.        ,\n",
       "        0.        ],\n",
       "       ...,\n",
       "       [0.        , 0.        , 0.        , ..., 1.        , 0.        ,\n",
       "        0.        ],\n",
       "       [0.        , 0.        , 0.        , ..., 0.        , 1.        ,\n",
       "        0.        ],\n",
       "       [0.        , 0.        , 0.        , ..., 0.        , 0.        ,\n",
       "        0.        ]])"
      ]
     },
     "execution_count": 35,
     "metadata": {},
     "output_type": "execute_result"
    }
   ],
   "source": [
    "similarity"
   ]
  },
  {
   "cell_type": "code",
   "execution_count": 36,
   "id": "d5f11bcb",
   "metadata": {},
   "outputs": [],
   "source": [
    "def recommend(Topics):\n",
    "    Topics_index = new_df[new_df['Topic_Name'] == Topics].index[0]\n",
    "    distances = similarity[Topics_index]\n",
    "    Topics_list = sorted(list(enumerate(distances)),reverse=True, key=lambda x:x[1])[1:7]\n",
    "    \n",
    "    for i in Topics_list:\n",
    "        print(new_df.iloc[i[0]].Topic_Name)"
   ]
  },
  {
   "cell_type": "code",
   "execution_count": 37,
   "id": "433e0645",
   "metadata": {},
   "outputs": [
    {
     "name": "stdout",
     "output_type": "stream",
     "text": [
      "Atom\n",
      "Angular\n",
      "Chrome extension\n",
      "ASP.NET\n",
      "Chrome\n",
      "Bootstrap\n"
     ]
    }
   ],
   "source": [
    "recommend('Ajax')"
   ]
  },
  {
   "cell_type": "code",
   "execution_count": 38,
   "id": "98a4a48f",
   "metadata": {},
   "outputs": [],
   "source": [
    "import pickle"
   ]
  },
  {
   "cell_type": "code",
   "execution_count": 39,
   "id": "557bb1d9",
   "metadata": {},
   "outputs": [],
   "source": [
    "pickle.dump(new_df,open('Topics_list.pkl','wb'))\n",
    "pickle.dump(similarity,open('similarity.pkl','wb'))\n",
    "pickle.dump(new_df,open('Topics.pkl','wb'))"
   ]
  },
  {
   "cell_type": "code",
   "execution_count": 40,
   "id": "d415436c",
   "metadata": {},
   "outputs": [],
   "source": [
    "pickle.dump(new_df.to_dict(),open('topics_dict.pkl','wb'))"
   ]
  }
 ],
 "metadata": {
  "kernelspec": {
   "display_name": "Python 3.9.5 ('venv': venv)",
   "language": "python",
   "name": "python3"
  },
  "language_info": {
   "codemirror_mode": {
    "name": "ipython",
    "version": 3
   },
   "file_extension": ".py",
   "mimetype": "text/x-python",
   "name": "python",
   "nbconvert_exporter": "python",
   "pygments_lexer": "ipython3",
   "version": "3.9.5"
  },
  "papermill": {
   "default_parameters": {},
   "duration": 40.65955,
   "end_time": "2022-01-26T14:20:13.730648",
   "environment_variables": {},
   "exception": null,
   "input_path": "__notebook__.ipynb",
   "output_path": "__notebook__.ipynb",
   "parameters": {},
   "start_time": "2022-01-26T14:19:33.071098",
   "version": "2.3.3"
  },
  "vscode": {
   "interpreter": {
    "hash": "2301be6ee7ea1f357c7be8647d07f9c3b41052c38f0a5e1553d58e49f3d34c74"
   }
  }
 },
 "nbformat": 4,
 "nbformat_minor": 5
}
